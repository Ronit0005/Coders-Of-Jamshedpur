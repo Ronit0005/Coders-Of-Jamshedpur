{
 "cells": [
  {
   "cell_type": "code",
   "execution_count": 9,
   "id": "a2173f50-0938-4e9e-92ff-a2fa87cc29e5",
   "metadata": {},
   "outputs": [],
   "source": [
    "sample = {\n",
    "    \"users\": [\n",
    "        {\"id\": 1, \"name\": \"Amit\", \"friends\": [2, 3], \"liked_pages\": [101]},\n",
    "        {\"id\": 2, \"name\": \"Priya\", \"friends\": [1, 4], \"liked_pages\": [102]},\n",
    "        {\"id\": 3, \"name\": \"Rahul\", \"friends\": [1], \"liked_pages\": [101, 103]},\n",
    "        {\"id\": 4, \"name\": \"Sara\", \"friends\": [2], \"liked_pages\": [104]}\n",
    "    ],\n",
    "    \"pages\": [\n",
    "        {\"id\": 101, \"name\": \"Python Developers\"},\n",
    "        {\"id\": 102, \"name\": \"Data Science Enthusiasts\"},\n",
    "        {\"id\": 103, \"name\": \"AI & ML Community\"},\n",
    "        {\"id\": 104, \"name\": \"Web Dev Hub\"}\n",
    "    ]\n",
    "}"
   ]
  },
  {
   "cell_type": "code",
   "execution_count": 15,
   "id": "5b1fc299-91d1-4459-a13d-9b5cc081ce98",
   "metadata": {},
   "outputs": [],
   "source": [
    "import json"
   ]
  },
  {
   "cell_type": "code",
   "execution_count": 23,
   "id": "3f9aead9-5544-4a12-8424-0400ce0ffcd9",
   "metadata": {},
   "outputs": [],
   "source": [
    "with open(\"Data.json\",'w') as file :\n",
    "    json.dump(sample_data,file)"
   ]
  },
  {
   "cell_type": "code",
   "execution_count": 32,
   "id": "2c8c82bb-0ccf-428f-bf6f-6790c5a3651e",
   "metadata": {},
   "outputs": [],
   "source": [
    "# Function to load data from files \n",
    "def load_data(filename):\n",
    "    with open(filename,'r') as file :\n",
    "        return json.load(file)"
   ]
  },
  {
   "cell_type": "code",
   "execution_count": 40,
   "id": "dde8f3bb-a5d7-47bc-a9b9-521017590dde",
   "metadata": {},
   "outputs": [
    {
     "data": {
      "text/plain": [
       "{'users': [{'id': 1, 'name': 'Amit', 'friends': [2, 3], 'liked_pages': [101]},\n",
       "  {'id': 2, 'name': 'Priya', 'friends': [1, 4], 'liked_pages': [102]},\n",
       "  {'id': 3, 'name': 'Rahul', 'friends': [1], 'liked_pages': [101, 103]},\n",
       "  {'id': 4, 'name': 'Sara', 'friends': [2], 'liked_pages': [104]}],\n",
       " 'pages': [{'id': 101, 'name': 'Python Developers'},\n",
       "  {'id': 102, 'name': 'Data Science Enthusiasts'},\n",
       "  {'id': 103, 'name': 'AI & ML Community'},\n",
       "  {'id': 104, 'name': 'Web Dev Hub'}]}"
      ]
     },
     "execution_count": 40,
     "metadata": {},
     "output_type": "execute_result"
    }
   ],
   "source": [
    "(load_data(\"Data.json\"))"
   ]
  },
  {
   "cell_type": "code",
   "execution_count": 36,
   "id": "4ed7416f-2a10-4ad9-bdb5-4fde20742a2b",
   "metadata": {},
   "outputs": [
    {
     "data": {
      "text/plain": [
       "function"
      ]
     },
     "execution_count": 36,
     "metadata": {},
     "output_type": "execute_result"
    }
   ],
   "source": [
    "type(load_data)"
   ]
  },
  {
   "cell_type": "code",
   "execution_count": 64,
   "id": "c1c69593-7fa9-429b-baa5-7524bcc17a37",
   "metadata": {
    "scrolled": true
   },
   "outputs": [
    {
     "name": "stdout",
     "output_type": "stream",
     "text": [
      "Id of Amit is 1\n",
      "His friends are : Priya\tRahul\t\n",
      "Liked Pages are : Python Developers\t\n",
      "\n",
      "Id of Priya is 2\n",
      "His friends are : Amit\tSara\t\n",
      "Liked Pages are : Data Science Enthusiasts\t\n",
      "\n",
      "Id of Rahul is 3\n",
      "His friends are : Amit\t\n",
      "Liked Pages are : Python Developers\tAI & ML Community\t\n",
      "\n",
      "Id of Sara is 4\n",
      "His friends are : Priya\t\n",
      "Liked Pages are : Web Dev Hub\t\n",
      "\n"
     ]
    }
   ],
   "source": [
    "# Function to display the connection of every user ie., friends and liked pages\n",
    "for user in sample['users']:\n",
    "    print(f\"Id of {user['name']} is {user['id']}\")\n",
    "    print('His friends are :',end=' ')\n",
    "    for frnd in user['friends']:\n",
    "        for j in sample['users']:\n",
    "            if j['id']==frnd:\n",
    "                print(j['name'],end=\"\\t\")\n",
    "    print()\n",
    "    print(\"Liked Pages are :\",end=' ') \n",
    "    for pas in user['liked_pages']:\n",
    "        for k in sample['pages']:\n",
    "            if k['id']==pas:\n",
    "                print(k['name'],end='\\t')\n",
    "    print('\\n')"
   ]
  },
  {
   "cell_type": "code",
   "execution_count": null,
   "id": "52806fab-e12b-4da0-85b6-d85d38d3e92d",
   "metadata": {},
   "outputs": [],
   "source": []
  }
 ],
 "metadata": {
  "kernelspec": {
   "display_name": "Python [conda env:base] *",
   "language": "python",
   "name": "conda-base-py"
  },
  "language_info": {
   "codemirror_mode": {
    "name": "ipython",
    "version": 3
   },
   "file_extension": ".py",
   "mimetype": "text/x-python",
   "name": "python",
   "nbconvert_exporter": "python",
   "pygments_lexer": "ipython3",
   "version": "3.12.7"
  }
 },
 "nbformat": 4,
 "nbformat_minor": 5
}
