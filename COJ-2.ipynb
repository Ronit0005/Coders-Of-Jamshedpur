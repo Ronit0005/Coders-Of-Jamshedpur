{
 "cells": [
  {
   "cell_type": "code",
   "execution_count": 2,
   "id": "1926f424-d9a9-443c-bc0c-a71eeaafe769",
   "metadata": {},
   "outputs": [],
   "source": [
    "# Cleaning and removing the duplicate values from data set ."
   ]
  },
  {
   "cell_type": "code",
   "execution_count": 4,
   "id": "e903e8e0-873d-46e5-92f0-d0c486303da5",
   "metadata": {},
   "outputs": [],
   "source": [
    "# Problems:\n",
    "#User ID 3 has an empty name.\n",
    "#User ID 4 has a duplicate friend entry.\n",
    "#User ID 5 has no connections or liked pages (inactive user).\n",
    "#The pages list contains duplicate page IDs."
   ]
  },
  {
   "cell_type": "code",
   "execution_count": 14,
   "id": "27d08ba7-ed32-4b26-989b-7be6a87e34d6",
   "metadata": {},
   "outputs": [],
   "source": [
    "import json"
   ]
  },
  {
   "cell_type": "code",
   "execution_count": 9,
   "id": "36f1462c-814b-4783-995b-339fc82358ca",
   "metadata": {},
   "outputs": [],
   "source": [
    "data = {\n",
    "    \"users\": [\n",
    "        {\"id\": 1, \"name\": \"Amit\", \"friends\": [2, 3], \"liked_pages\": [101]},\n",
    "        {\"id\": 2, \"name\": \"Priya\", \"friends\": [1, 4], \"liked_pages\": [102]},\n",
    "        {\"id\": 3, \"name\": \"\", \"friends\": [1], \"liked_pages\": [101, 103]},\n",
    "        {\"id\": 4, \"name\": \"Sara\", \"friends\": [2, 2], \"liked_pages\": [104]},\n",
    "        {\"id\": 5, \"name\": \"Amit\", \"friends\": [], \"liked_pages\": []}\n",
    "    ],\n",
    "    \"pages\": [\n",
    "        {\"id\": 101, \"name\": \"Python Developers\"},\n",
    "        {\"id\": 102, \"name\": \"Data Science Enthusiasts\"},\n",
    "        {\"id\": 103, \"name\": \"AI & ML Community\"},\n",
    "        {\"id\": 104, \"name\": \"Web Dev Hub\"},\n",
    "        {\"id\": 104, \"name\": \"Web Development\"}\n",
    "    ]\n",
    "}"
   ]
  },
  {
   "cell_type": "code",
   "execution_count": 3,
   "id": "7791cf77-5f18-4f12-98e0-fa69f203f32c",
   "metadata": {},
   "outputs": [
    {
     "name": "stdout",
     "output_type": "stream",
     "text": [
      "Data has been cleaned successfully\n"
     ]
    }
   ],
   "source": [
    "# Cleanning and filtering the data .\n",
    "def cleaner(data) :\n",
    "    for user in data['users'] :\n",
    "        if user['name'].strip()=='':\n",
    "            data['users'].remove(user)\n",
    "        user['friends']=list(set(user['friends']))\n",
    "        if len(user['friends']) == 0 and len(user['liked_pages']) ==0 :\n",
    "            data['users'].remove(user)\n",
    "    for page in data['pages'] :\n",
    "        for page2 in data['pages'] :\n",
    "            if page['id'] == page2['id'] and page['name'] != page2['name'] :\n",
    "               if page2 in data['pages'] : \n",
    "                data['pages'].remove(page2)\n",
    "    return data \n",
    "\n",
    "# Loading the data .\n",
    "data = json.load(open('unfiltered2.json','r'))\n",
    "data = cleaner(data)\n",
    "# Dumping the data into a new file .\n",
    "with open('filtered_2.json','w') as file :\n",
    "    json.dump(data,file,indent=4)\n",
    "print('Data has been cleaned successfully') "
   ]
  }
 ],
 "metadata": {
  "kernelspec": {
   "display_name": "Python [conda env:base] *",
   "language": "python",
   "name": "conda-base-py"
  },
  "language_info": {
   "codemirror_mode": {
    "name": "ipython",
    "version": 3
   },
   "file_extension": ".py",
   "mimetype": "text/x-python",
   "name": "python",
   "nbconvert_exporter": "python",
   "pygments_lexer": "ipython3",
   "version": "3.12.7"
  }
 },
 "nbformat": 4,
 "nbformat_minor": 5
}
