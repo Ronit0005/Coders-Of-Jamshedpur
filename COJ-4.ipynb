{
 "cells": [
  {
   "cell_type": "code",
   "execution_count": 1,
   "id": "63341d1f-f332-4a01-b6a8-3ce2a0ebe849",
   "metadata": {},
   "outputs": [],
   "source": [
    "# Loading the data ."
   ]
  },
  {
   "cell_type": "code",
   "execution_count": 44,
   "id": "dfda9e5a-fe43-4027-9d5d-5835ac27d705",
   "metadata": {},
   "outputs": [],
   "source": [
    "def load_data(filename) :\n",
    "    return json.load(open(filename,'r'))"
   ]
  },
  {
   "cell_type": "code",
   "execution_count": 50,
   "id": "df4f3519-8815-48ef-8fad-47cff0e5713e",
   "metadata": {},
   "outputs": [],
   "source": [
    "import json"
   ]
  },
  {
   "cell_type": "code",
   "execution_count": null,
   "id": "493661ed-7f62-43d6-8c94-43ce93c2d07d",
   "metadata": {},
   "outputs": [],
   "source": [
    "# Function to find the pages you might like .\n"
   ]
  },
  {
   "cell_type": "code",
   "execution_count": 60,
   "id": "7b95846f-8c73-44bc-9ff2-c2e43e82b268",
   "metadata": {},
   "outputs": [],
   "source": [
    "def pages_you_might_like(data) :\n",
    "    for user in data['users'] :\n",
    "        print(user['name'])\n",
    "        dict = {}\n",
    "        for user2 in data['users'] :\n",
    "            if user != user2 :\n",
    "                page1 = set(user['liked_pages'])\n",
    "                page2 = set(user2['liked_pages'])\n",
    "                score = page1.intersection(page2)\n",
    "                for page in user2['liked_pages'] :\n",
    "                    if page not in user['liked_pages'] :\n",
    "                        dict[page] = score\n",
    "        sorted_dict = sorted(dict.items(),key = lambda x:x[1],reverse = True )\n",
    "        for page,_ in sorted_dict:\n",
    "            print(\"-\",page) "
   ]
  },
  {
   "cell_type": "code",
   "execution_count": 67,
   "id": "872cdb3b-bdab-4ed2-aff4-44cabf703164",
   "metadata": {},
   "outputs": [
    {
     "name": "stdout",
     "output_type": "stream",
     "text": [
      "Amit\n",
      "- 103\n",
      "- 102\n",
      "- 104\n",
      "Priya\n",
      "- 101\n",
      "- 103\n",
      "- 104\n",
      "Rahul\n",
      "- 102\n",
      "- 104\n",
      "Sara\n",
      "- 101\n",
      "- 102\n",
      "- 103\n"
     ]
    }
   ],
   "source": [
    "data = load_data('Data.json')\n",
    "pages_you_might_like(data)"
   ]
  }
 ],
 "metadata": {
  "kernelspec": {
   "display_name": "Python [conda env:base] *",
   "language": "python",
   "name": "conda-base-py"
  },
  "language_info": {
   "codemirror_mode": {
    "name": "ipython",
    "version": 3
   },
   "file_extension": ".py",
   "mimetype": "text/x-python",
   "name": "python",
   "nbconvert_exporter": "python",
   "pygments_lexer": "ipython3",
   "version": "3.12.7"
  }
 },
 "nbformat": 4,
 "nbformat_minor": 5
}
